{
 "cells": [
  {
   "cell_type": "markdown",
   "metadata": {},
   "source": [
    "# Test Haskell Jupyter Notebook\n",
    "\n",
    "Can we create a list, and perform actions against it?"
   ]
  },
  {
   "cell_type": "code",
   "execution_count": 2,
   "metadata": {},
   "outputs": [
    {
     "output_type": "display_data",
     "data": {
      "text/plain": "[2,4,6,8,10,12,14,16,18,20]"
     },
     "metadata": {}
    }
   ],
   "source": [
    "xs = take 10 [1..]\n",
    "fmap (*2) xs"
   ]
  }
 ],
 "metadata": {
  "kernelspec": {
   "display_name": "Haskell",
   "language": "haskell",
   "name": "haskell"
  },
  "language_info": {
   "codemirror_mode": "ihaskell",
   "file_extension": ".hs",
   "name": "haskell",
   "pygments_lexer": "Haskell",
   "version": "3.8.4-candidate"
  }
 },
 "nbformat": 4,
 "nbformat_minor": 4
}